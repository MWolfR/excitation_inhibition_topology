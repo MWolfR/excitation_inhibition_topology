{
 "cells": [
  {
   "cell_type": "code",
   "execution_count": 1,
   "id": "dbac0b9d-5c2f-4da1-bfb5-6c3e936f3df8",
   "metadata": {},
   "outputs": [],
   "source": [
    "import numpy\n",
    "import pandas\n",
    "\n",
    "import json\n",
    "\n",
    "from matplotlib import pyplot as plt\n",
    "\n",
    "from helpers import network, plotting"
   ]
  },
  {
   "cell_type": "code",
   "execution_count": 5,
   "id": "9c7b1081-7dd6-4c48-8d1e-cdc5d9140ca0",
   "metadata": {},
   "outputs": [
    {
     "name": "stdout",
     "output_type": "stream",
     "text": [
      "{'connectome': {'cols_xyz': ['x_nm', 'y_nm', 'z_nm'], 'loading': {'conntility': '/scratch/datasets/microns_reimann/microns_mm3_connectome.h5', 'args': ['condensed']}, 'subnetwork': {'base_volume': [], 'simplices': [{'column': 'cell_type', 'function': 'isin', 'args': [['23P', '4P', '6CT', '5P_IT', '5P_PT', '5P_NP', '6IT']]}, {'column': 'x_nm', 'function': 'gt', 'args': [700000.0]}, {'column': 'x_nm', 'function': 'lt', 'args': [1200000.0]}, {'column': 'z_nm', 'function': 'gt', 'args': [700000.0]}, {'column': 'z_nm', 'function': 'lt', 'args': [1000000.0]}], 'neurons': {'name': 'Inhibitory', 'filters': [{'column': 'cell_type', 'function': 'isin', 'args': [['BC', 'MC', 'NGC']]}]}}}, 'analysis': {'simplex_dimension': 6, 'use_weight': 0, 'min_degrees': {'In': 200, 'Out': 200}, 'normalize_mat': 0, 'clustering': {'use': 'source', 'cluster_param': 2.2, 'merge_smaller_than': 0.05, 'normalize_cluster_paths': 'pairs', 'normalize_cluster_disyn': 'pairs', 'cutoff': {'strategy': 'percentile_control', 'value': 95}}}, 'plotting': {'output_root': 'plots/microns/7', 'networks': {'nrn_minimum_indegree': 20, 'nrn_minimum_outdegree': 20, 'nrn_num_picked': 20, 'positioning': ['raw', 'percentile', 'mean_pos', 'horizontal']}}, 'save': {'filename': 'save/microns_results.h5', 'id': 7}}\n"
     ]
    },
    {
     "data": {
      "text/plain": [
       "{'connectome': {'cols_xyz': ['x_nm', 'y_nm', 'z_nm'],\n",
       "  'loading': {'conntility': '/home/reimann/Documents/data/microns/microns_mm3_connectome_v1181.h5',\n",
       "   'args': ['condensed']},\n",
       "  'subnetwork': {'base_volume': [],\n",
       "   'simplices': [{'column': 'cell_type',\n",
       "     'function': 'isin',\n",
       "     'args': [['23P', '4P', '6CT', '5P_IT', '5P_PT', '5P_NP', '6IT']]},\n",
       "    {'column': 'x_nm', 'function': 'gt', 'args': [700000.0]},\n",
       "    {'column': 'x_nm', 'function': 'lt', 'args': [1200000.0]},\n",
       "    {'column': 'z_nm', 'function': 'gt', 'args': [700000.0]},\n",
       "    {'column': 'z_nm', 'function': 'lt', 'args': [1000000.0]}],\n",
       "   'neurons': {'name': 'Inhibitory',\n",
       "    'filters': [{'column': 'cell_type',\n",
       "      'function': 'isin',\n",
       "      'args': [['BC', 'MC', 'NGC']]}]}}},\n",
       " 'analysis': {'simplex_dimension': 6,\n",
       "  'use_weight': 0,\n",
       "  'min_degrees': {'In': 200, 'Out': 200},\n",
       "  'normalize_mat': 0,\n",
       "  'clustering': {'use': 'source',\n",
       "   'cluster_param': 2.2,\n",
       "   'merge_smaller_than': 0.05,\n",
       "   'normalize_cluster_paths': 'pairs',\n",
       "   'normalize_cluster_disyn': 'pairs',\n",
       "   'cutoff': {'strategy': 'percentile_control', 'value': 95}}},\n",
       " 'plotting': {'output_root': 'plots/microns/7',\n",
       "  'networks': {'nrn_minimum_indegree': 20,\n",
       "   'nrn_minimum_outdegree': 20,\n",
       "   'nrn_num_picked': 20,\n",
       "   'positioning': ['raw', 'percentile', 'mean_pos', 'horizontal']}},\n",
       " 'save': {'filename': 'save/microns_results.h5', 'id': 7}}"
      ]
     },
     "execution_count": 5,
     "metadata": {},
     "output_type": "execute_result"
    }
   ],
   "source": [
    "# FILL IN TARGET CONFIG FILE!\n",
    "with open(\"configs/microns_placement_7.json\", \"r\") as fid:\n",
    "    cfg = json.load(fid)\n",
    "\n",
    "plot_out = cfg[\"plotting\"][\"output_root\"]\n",
    "save_out = cfg[\"save\"][\"filename\"]\n",
    "save_id = cfg[\"save\"][\"id\"]\n",
    "\n",
    "M = network.load_network(cfg[\"connectome\"][\"loading\"])"
   ]
  },
  {
   "cell_type": "code",
   "execution_count": 6,
   "id": "ace68f0c-0525-4320-b06b-ccff7684e0b6",
   "metadata": {},
   "outputs": [],
   "source": [
    "from scipy.spatial import distance\n",
    "\n",
    "M.vertices[\"cell_type\"].value_counts()\n",
    "\n",
    "cols_pos = [\"x_nm\", \"y_nm\", \"z_nm\"]\n",
    "grp_pc = [\"L3b\", \"L2c\", \"L3a\", \"L2b\", \"L2a\"]\n",
    "grp_inh = [\"PTC\", \"DTC\", \"ITC\", \"STC\"]\n",
    "\n",
    "def sample_pairs_within(grp_a, grp_b, dist_max):\n",
    "    sub_a = M.index(\"status_axon\").eq(\"t\").index(\"cell_type\").isin(grp_a)\n",
    "    sub_b = M.index(\"status_axon\").eq(\"t\").index(\"cell_type\").isin(grp_b)\n",
    "    \n",
    "    loc_a = sub_a.vertices[cols_pos] / 1000\n",
    "    loc_b = sub_b.vertices[cols_pos] / 1000\n",
    "    D = distance.cdist(loc_a.values, loc_b.values)\n",
    "    C_b_a = M.submatrix(sub_b.gids, sub_gids_post=sub_a.gids)\n",
    "    C_a_b = M.submatrix(sub_a.gids, sub_gids_post=sub_b.gids)\n",
    "    a, b = numpy.nonzero(D < 50.0)\n",
    "    c_b_a = numpy.array(C_b_a[b, a])[0]\n",
    "    c_a_b = numpy.array(C_a_b[a, b])[0]\n",
    "    return c_a_b, c_b_a\n"
   ]
  },
  {
   "cell_type": "code",
   "execution_count": 12,
   "id": "5387c0e8-8acd-451b-8803-57316ca8598a",
   "metadata": {},
   "outputs": [
    {
     "data": {
      "image/png": "[encoded data removed]",
      "text/plain": [
       "<Figure size 300x300 with 1 Axes>"
      ]
     },
     "metadata": {},
     "output_type": "display_data"
    }
   ],
   "source": [
    "# Reference data as reported in:\n",
    "# Znamenski et al., 2024. Neuron (112;6). Functional specificity of recurrent inhibition in visual cortex\n",
    "ref = pandas.DataFrame([[0.12, 0.15], [0.09, 0.64]], columns=[False, True], index=[False, True])\n",
    "\n",
    "def rc_bias(res):\n",
    "    rc_tst = res[True] / res.sum(axis=1)\n",
    "    return rc_tst # [True] / rc_tst[False]\n",
    "    \n",
    "def bias_for_type(c_ab, c_ba, cutoff):\n",
    "    c_df = pandas.DataFrame({\"A -> B\": c_ab > 0, \"B -> A\": c_ba > cutoff})\n",
    "    data = c_df.value_counts(normalize=True).sort_index().unstack(\"B -> A\")\n",
    "    return rc_bias(data)\n",
    "\n",
    "cols = [\"orange\", \"green\", \"teal\" , \"purple\"]\n",
    "data_bias = pandas.concat([\n",
    "    bias_for_type(*sample_pairs_within(grp_pc, [_cls], 50.0), 0) for _cls in grp_inh\n",
    "], keys=grp_inh, axis=1)\n",
    "    \n",
    "ref_bias = rc_bias(ref)\n",
    "\n",
    "fig = plt.figure(figsize=(3, 3))\n",
    "ax = fig.gca()\n",
    "\n",
    "ax.plot(ref_bias[False], ref_bias[True], marker='o', color='blue', label=\"Reference for PV+ (PTC)\")\n",
    "for tp, col in zip(data_bias.columns, cols):\n",
    "    ax.plot(data_bias[tp][False], data_bias[tp][True], marker='o', color=col, label=tp)\n",
    "ax.set_xlim([0.0, 0.9]); ax.set_ylim(ax.get_xlim())\n",
    "ax.plot(ax.get_xlim(), ax.get_xlim(), color=\"grey\", ls=\"--\")\n",
    "plt.legend()\n",
    "ax.set_xlabel(\"P(I -> PC | PC -X- I)\")\n",
    "ax.set_ylabel(\"P(I -> PC | PC -> I)\")\n",
    "ax.set_frame_on(False)\n",
    "\n",
    "fig.savefig(\"plots/compare_to_neuron_paper.pdf\")"
   ]
  },
  {
   "cell_type": "code",
   "execution_count": 13,
   "id": "78c897a4-742a-401a-b73e-e578c667c611",
   "metadata": {},
   "outputs": [
    {
     "data": {
      "text/plain": [
       "False    0.27\n",
       "True     0.73\n",
       "dtype: float64"
      ]
     },
     "metadata": {},
     "output_type": "display_data"
    },
    {
     "data": {
      "text/plain": [
       "0.4690522243713733"
      ]
     },
     "execution_count": 13,
     "metadata": {},
     "output_type": "execute_result"
    }
   ],
   "source": [
    "# Compare overall PC to PTC connection probability. Hint: It is a bit lower in Microns.\n",
    "display(ref.sum(axis=1))\n",
    "a, b = sample_pairs_within(grp_pc, [\"PTC\"], 50.0)\n",
    "(a > 0).mean()"
   ]
  }
 ],
 "metadata": {
  "kernelspec": {
   "display_name": "Python 3 (ipykernel)",
   "language": "python",
   "name": "python3"
  },
  "language_info": {
   "codemirror_mode": {
    "name": "ipython",
    "version": 3
   },
   "file_extension": ".py",
   "mimetype": "text/x-python",
   "name": "python",
   "nbconvert_exporter": "python",
   "pygments_lexer": "ipython3",
   "version": "3.8.10"
  }
 },
 "nbformat": 4,
 "nbformat_minor": 5
}
